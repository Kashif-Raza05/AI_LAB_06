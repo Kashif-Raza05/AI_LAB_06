{
 "cells": [
  {
   "cell_type": "code",
   "execution_count": 4,
   "id": "88be717c-aa87-4302-8d4a-24178012e6fe",
   "metadata": {},
   "outputs": [
    {
     "name": "stdout",
     "output_type": "stream",
     "text": [
      "Mean Squared Error: 0.09877726217799623\n",
      "R-Squared: 0.6048909512880151\n",
      "Predictions: [0.1831981  0.59503953]\n",
      "Coefficients: [0.00685148 0.01837757 0.30625063]\n",
      "Intercept: -1.0331125827814567\n"
     ]
    }
   ],
   "source": [
    "import numpy as np\n",
    "import pandas as pd\n",
    "from sklearn.model_selection import train_test_split\n",
    "from sklearn.linear_model import LinearRegression\n",
    "from sklearn.metrics import mean_squared_error, r2_score\n",
    "\n",
    "# Creating the dataset\n",
    "data = {\n",
    "    \"Age\": [25, 32, 47, 51, 23, 42, 36, 28, 30, 45],\n",
    "    \"Annual Income\": [50, 60, 85, 45, 35, 95, 40, 75, 55, 65],\n",
    "    \"Gender\": [0, 1, 0, 0, 1, 1, 0, 1, 0, 1],\n",
    "    \"Purchased\": [0, 1, 1, 0, 0, 1, 0, 1, 0, 1]\n",
    "}\n",
    "\n",
    "df = pd.DataFrame(data)\n",
    "\n",
    "# Splitting features and target variable\n",
    "X = df[[\"Age\", \"Annual Income\", \"Gender\"]]\n",
    "y = df[\"Purchased\"]\n",
    "\n",
    "# Splitting into training and testing sets\n",
    "X_train, X_test, y_train, y_test = train_test_split(X, y, test_size=0.2, random_state=42)\n",
    "\n",
    "# Linear regression model\n",
    "model = LinearRegression()\n",
    "model.fit(X_train, y_train)\n",
    "\n",
    "# Predictions\n",
    "y_pred = model.predict(X_test)\n",
    "\n",
    "# Metrics\n",
    "mse = mean_squared_error(y_test, y_pred)\n",
    "r2 = r2_score(y_test, y_pred)\n",
    "\n",
    "# Display results\n",
    "print(\"Mean Squared Error:\", mse)\n",
    "print(\"R-Squared:\", r2)\n",
    "print(\"Predictions:\", y_pred)\n",
    "\n",
    "# Display model coefficients\n",
    "print(\"Coefficients:\", model.coef_)\n",
    "print(\"Intercept:\", model.intercept_)\n"
   ]
  },
  {
   "cell_type": "code",
   "execution_count": null,
   "id": "ba11568f-6ab6-4138-a1c8-7f648d3670a0",
   "metadata": {},
   "outputs": [],
   "source": []
  },
  {
   "cell_type": "code",
   "execution_count": null,
   "id": "c256ab0d-470d-4b4e-8d3b-f697c7e4a70d",
   "metadata": {},
   "outputs": [],
   "source": []
  }
 ],
 "metadata": {
  "kernelspec": {
   "display_name": "Python 3 (ipykernel)",
   "language": "python",
   "name": "python3"
  },
  "language_info": {
   "codemirror_mode": {
    "name": "ipython",
    "version": 3
   },
   "file_extension": ".py",
   "mimetype": "text/x-python",
   "name": "python",
   "nbconvert_exporter": "python",
   "pygments_lexer": "ipython3",
   "version": "3.11.7"
  }
 },
 "nbformat": 4,
 "nbformat_minor": 5
}
